{
 "cells": [
  {
   "cell_type": "markdown",
   "id": "59a1a984-21b5-44da-b47f-e348364c712e",
   "metadata": {},
   "source": [
    "Shift charachter "
   ]
  },
  {
   "cell_type": "code",
   "execution_count": 1,
   "id": "5125b796-1f49-426d-8652-f71cfe5e4f52",
   "metadata": {},
   "outputs": [
    {
     "name": "stdin",
     "output_type": "stream",
     "text": [
      "please enter your string abc67*(\n"
     ]
    }
   ],
   "source": [
    "list1 = input(f\"please enter your string\")"
   ]
  },
  {
   "cell_type": "code",
   "execution_count": 3,
   "id": "4839b1ab-8c8e-41c0-b458-d86303fc3fb7",
   "metadata": {},
   "outputs": [
    {
     "name": "stdin",
     "output_type": "stream",
     "text": [
      "please enter  your number :  2\n"
     ]
    }
   ],
   "source": [
    "try:\n",
    "  n = int(input(\"please enter  your number : \"))\n",
    "  n = abs(n) \n",
    "except ValueError:\n",
    "  n = int(input(\"you must enter number : \"))\n",
    "  n = abs(n)"
   ]
  },
  {
   "cell_type": "code",
   "execution_count": 18,
   "id": "a3e1fd35-3e9e-48e3-88a1-bffb9beaa48d",
   "metadata": {},
   "outputs": [
    {
     "name": "stdout",
     "output_type": "stream",
     "text": [
      "**** your string then shift is: cde67*(\n"
     ]
    }
   ],
   "source": [
    "lch = ['a','b','c','d','e','f','g','h','i','j','k','l','m','n','o','p','q','r','s','t','u','v','w','x','y','z']\n",
    "uch = ['A','B','C','D','E','F','G','H','I','J','K','L','M','N','O','P','Q','R','S','T','U','V','W','X','Y','Z']\n",
    "char = \"0123456789!@#$%^&*()_+:?></-\"\n",
    "n2 = n % 26\n",
    "list2 = \"\"\n",
    "for i in range(len(list1)) :\n",
    "  if (list1[i] != ' ') & (list1[i]  not in char) :\n",
    "    if list1[i] in lch:\n",
    "        j = 0\n",
    "        m = 0\n",
    "        while list1[i] != lch[j]:\n",
    "             j += 1\n",
    "             m = j\n",
    "        m += n2 \n",
    "        if  m <= 25:\n",
    "          list2 += lch[m] \n",
    "        elif m > 25:\n",
    "            m %= 26\n",
    "            list2 += lch[m] \n",
    "        \n",
    "    elif list1[i] in uch :\n",
    "            j = 0\n",
    "            m = 0\n",
    "            while list1[i] != uch[j] :\n",
    "                 j += 1\n",
    "                 m = j\n",
    "            m += n2\n",
    "            if m <= 25:\n",
    "              list2 += uch[m]\n",
    "            elif m > 25:\n",
    "                m %= 26\n",
    "                list2 += uch[m]\n",
    "  elif list1[i] ==  ' ' : \n",
    "    list2 += ' '\n",
    "  else :\n",
    "     list2 += list1[i]  \n",
    "print(f\"**** your string then shift is:\",list2)"
   ]
  },
  {
   "cell_type": "code",
   "execution_count": null,
   "id": "a5ffaca0-9058-4849-b4ed-30e09ee59c6e",
   "metadata": {},
   "outputs": [],
   "source": []
  },
  {
   "cell_type": "code",
   "execution_count": null,
   "id": "ecc48b4f-1510-41b8-9b62-0a3d81761881",
   "metadata": {},
   "outputs": [],
   "source": []
  }
 ],
 "metadata": {
  "kernelspec": {
   "display_name": "Python 3 (ipykernel)",
   "language": "python",
   "name": "python3"
  },
  "language_info": {
   "codemirror_mode": {
    "name": "ipython",
    "version": 3
   },
   "file_extension": ".py",
   "mimetype": "text/x-python",
   "name": "python",
   "nbconvert_exporter": "python",
   "pygments_lexer": "ipython3",
   "version": "3.12.4"
  }
 },
 "nbformat": 4,
 "nbformat_minor": 5
}
