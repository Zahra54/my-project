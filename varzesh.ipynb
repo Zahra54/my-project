{
 "cells": [
  {
   "cell_type": "code",
   "execution_count": 28,
   "id": "2b4cbbf3-9e20-4399-97de-d588907f2ea4",
   "metadata": {},
   "outputs": [],
   "source": [
    "import requests\n",
    "import bs4 as bs"
   ]
  },
  {
   "cell_type": "code",
   "execution_count": 29,
   "id": "8bc4a5b7-a7ec-4329-94f1-133309ac3a55",
   "metadata": {},
   "outputs": [],
   "source": [
    "url = \"https://www.varzesh3.com/news/\""
   ]
  },
  {
   "cell_type": "code",
   "execution_count": 30,
   "id": "75ee1e7c-a96b-4a12-9a99-0d25a1eda517",
   "metadata": {},
   "outputs": [],
   "source": [
    "title1 = []\n",
    "title2 = []\n",
    "view = []\n",
    "tag = []\n"
   ]
  },
  {
   "cell_type": "code",
   "execution_count": null,
   "id": "f7d3573e-53a7-47a9-89c3-b4e321e72627",
   "metadata": {},
   "outputs": [],
   "source": [
    "for i in range(2090700,2090791):\n",
    "    try:\n",
    "        page = url +str(i) + \"/\"\n",
    "        resp = requests.get(page)\n",
    "        html = bs.BeautifulSoup(resp.content)\n",
    "        title1.append ( html.find(\"h1\", class_=\"headline\").get_text())\n",
    "        title2.append ( html.find(\"p\", class_=\"lead\").get_text())\n",
    "        div = html.find(\"div\", class_=\"news-info\")\n",
    "        view.append ( int(float(div.find_all(\"span\")[2].get_text().split(\" \")[0][:-1]) * 1000))\n",
    "        tag.append ( html.find(\"div\", class_=\"tags tags-news\").get_text())\n",
    "        \n",
    "    except AttributeError:\n",
    "        print(\"not a news \")"
   ]
  },
  {
   "cell_type": "code",
   "execution_count": null,
   "id": "34ae7112-0008-4f0d-a2cf-6f6630a30ab5",
   "metadata": {},
   "outputs": [],
   "source": [
    "for i in range(len(tag)):\n",
    "  tag[i] = tag[i].replace(\"\\n\",\"\")\n",
    "  title2[i] = title2[i].replace(\"\\n\",\"\") \n",
    "  title2[i] = title2[i].replace(\"\\r\",\"\")\n",
    "  title2[i] = title2[i].strip(\" \")\n",
    "    "
   ]
  },
  {
   "cell_type": "code",
   "execution_count": null,
   "id": "4ae6a4a0-4631-4eec-b3f0-ee4d36af5d09",
   "metadata": {},
   "outputs": [],
   "source": [
    "import pandas as pd\n",
    "d1=pd.DataFrame(title1,columns=[\"Title1\"])\n",
    "d2=pd.DataFrame(title2,columns=[\"Title2\"])\n",
    "d3=pd.DataFrame(view,columns=[\"View\"])\n",
    "d4=pd.DataFrame(tag,columns=[\"Tag\"])\n",
    "result=pd.concat([d1,d2,d3,d4],axis=1)"
   ]
  },
  {
   "cell_type": "code",
   "execution_count": null,
   "id": "5780fcf0-8f0b-43fd-b3bc-fca946b4d93a",
   "metadata": {},
   "outputs": [],
   "source": [
    "result\n"
   ]
  },
  {
   "cell_type": "code",
   "execution_count": 25,
   "id": "110d947d-a6b0-49f3-a1e0-3fc1410c245f",
   "metadata": {},
   "outputs": [],
   "source": [
    "result.to_csv('varzesh3.csv',index=False)"
   ]
  },
  {
   "cell_type": "code",
   "execution_count": null,
   "id": "d4ed8663-997b-4a35-8c51-3c4c4c628b25",
   "metadata": {},
   "outputs": [],
   "source": []
  }
 ],
 "metadata": {
  "kernelspec": {
   "display_name": "Python 3 (ipykernel)",
   "language": "python",
   "name": "python3"
  },
  "language_info": {
   "codemirror_mode": {
    "name": "ipython",
    "version": 3
   },
   "file_extension": ".py",
   "mimetype": "text/x-python",
   "name": "python",
   "nbconvert_exporter": "python",
   "pygments_lexer": "ipython3",
   "version": "3.12.4"
  }
 },
 "nbformat": 4,
 "nbformat_minor": 5
}
